{
 "cells": [
  {
   "cell_type": "code",
   "execution_count": null,
   "id": "8299ef10-1d3b-4e18-bdba-c00485d39da7",
   "metadata": {},
   "outputs": [
    {
     "name": "stdout",
     "output_type": "stream",
     "text": [
      "WARNING:tensorflow:From C:\\Users\\Rakesh Kumar\\AppData\\Local\\Programs\\Python\\Python312\\Lib\\site-packages\\tf_keras\\src\\losses.py:2976: The name tf.losses.sparse_softmax_cross_entropy is deprecated. Please use tf.compat.v1.losses.sparse_softmax_cross_entropy instead.\n",
      "\n"
     ]
    }
   ],
   "source": [
    "import cv2  # OpenCV for webcam access and image processing\n",
    "from deepface import DeepFace  # DeepFace for facial emotion detection\n"
   ]
  },
  {
   "cell_type": "code",
   "execution_count": null,
   "id": "536924b3-0d0a-47de-a41a-c66b9018a8f3",
   "metadata": {},
   "outputs": [],
   "source": [
    "def detect_emotion_from_webcam():\n",
    "    # Step 1: Start video capture from the default camera (0)\n",
    "    cap = cv2.VideoCapture(0)\n",
    "\n",
    "    # Check if the webcam is opened successfully\n",
    "    if not cap.isOpened():\n",
    "        print(\"Error: Could not open webcam.\")\n",
    "        return\n",
    "\n",
    "    # Step 2: Continuously capture frames from the webcam\n",
    "    while True:\n",
    "        # Capture each frame from the webcam\n",
    "        ret, frame = cap.read()\n",
    "        if not ret:\n",
    "            print(\"Failed to capture frame.\")\n",
    "            break\n",
    "\n",
    "        # Resize the frame for faster processing\n",
    "        resized_frame = cv2.resize(frame, (640, 480))\n",
    "\n",
    "        try:\n",
    "            # Step 3: Use DeepFace to analyze the frame for emotions\n",
    "            # enforce_detection=True ensures that a face must be detected\n",
    "            result = DeepFace.analyze(\n",
    "                img_path=resized_frame,\n",
    "                actions=['emotion'],\n",
    "                enforce_detection=True,  # Ensures face detection\n",
    "                detector_backend='opencv'  # Use OpenCV backend for face detection\n",
    "            )\n",
    "\n",
    "            # Extract the dominant emotion from the analysis result\n",
    "            emotion = result[0]['dominant_emotion']\n",
    "            # Display the detected emotion on the frame\n",
    "            font = cv2.FONT_HERSHEY_SIMPLEX\n",
    "            cv2.putText(resized_frame, f'Emotion: {emotion}', (50, 50), font, 1, (0, 255, 0), 2, cv2.LINE_AA)\n",
    "\n",
    "        except Exception as e:\n",
    "            # Handle exceptions if face or emotion detection fails\n",
    "            font = cv2.FONT_HERSHEY_SIMPLEX\n",
    "            cv2.putText(resized_frame, 'No face detected', (50, 50), font, 1, (0, 0, 255), 2, cv2.LINE_AA)\n",
    "            print(\"Face not detected. Please ensure your face is visible to the camera.\")\n",
    "\n",
    "        # Show the frame with the detected emotion displayed\n",
    "        cv2.imshow(\"Webcam - Press 'q' to Quit\", resized_frame)\n",
    "\n",
    "        # Step 4: Exit the loop when 'q' key is pressed\n",
    "        if cv2.waitKey(1) & 0xFF == ord('q'):\n",
    "            break\n",
    "\n",
    "    # Step 5: Release the webcam and close all OpenCV windows\n",
    "    cap.release()\n",
    "    cv2.destroyAllWindows()"
   ]
  },
  {
   "cell_type": "code",
   "execution_count": null,
   "id": "f69d1b1e-cdb4-404f-b319-feea167e5bd9",
   "metadata": {},
   "outputs": [],
   "source": [
    "detect_emotion_from_webcam()"
   ]
  }
 ],
 "metadata": {
  "kernelspec": {
   "display_name": "Python 3 (ipykernel)",
   "language": "python",
   "name": "python3"
  },
  "language_info": {
   "codemirror_mode": {
    "name": "ipython",
    "version": 3
   },
   "file_extension": ".py",
   "mimetype": "text/x-python",
   "name": "python",
   "nbconvert_exporter": "python",
   "pygments_lexer": "ipython3",
   "version": "3.12.5"
  }
 },
 "nbformat": 4,
 "nbformat_minor": 5
}
