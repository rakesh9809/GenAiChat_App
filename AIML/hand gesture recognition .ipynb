{
 "cells": [
  {
   "cell_type": "code",
   "execution_count": 2,
   "id": "26ec61e3-f7bb-4ab1-b53f-faab10e2c06f",
   "metadata": {},
   "outputs": [],
   "source": [
    "import cv2\n",
    "import mediapipe as mp\n"
   ]
  },
  {
   "cell_type": "code",
   "execution_count": 3,
   "id": "8b39a875-ecdf-4de4-9b61-6e5ba28c3996",
   "metadata": {},
   "outputs": [],
   "source": [
    "# Initialize MediaPipe Hands and drawing utilities\n",
    "mp_hands = mp.solutions.hands\n",
    "hands = mp_hands.Hands(\n",
    "    static_image_mode=False,\n",
    "    max_num_hands=1,\n",
    "    min_detection_confidence=0.8,\n",
    "    min_tracking_confidence=0.5\n",
    ")\n",
    "mp_drawing = mp.solutions.drawing_utils\n"
   ]
  },
  {
   "cell_type": "code",
   "execution_count": 4,
   "id": "2b8b1034-c521-44ac-bab7-08b7a7ae215e",
   "metadata": {},
   "outputs": [],
   "source": [
    "def count_fingers(landmarks):\n",
    "    # Landmarks for finger tips\n",
    "    tips_ids = [4, 8, 12, 16, 20]\n",
    "    \n",
    "    # Check if each finger tip landmark is above the base landmark\n",
    "    fingers = []\n",
    "    for i in range(len(tips_ids)):\n",
    "        tip_y = landmarks[tips_ids[i]][1]\n",
    "        base_y = landmarks[tips_ids[i] - 2][1] if i > 0 else landmarks[tips_ids[i] - 1][1]\n",
    "        if tip_y < base_y:\n",
    "            fingers.append(1)\n",
    "        else:\n",
    "            fingers.append(0)\n",
    "    \n",
    "    return sum(fingers)\n"
   ]
  },
  {
   "cell_type": "code",
   "execution_count": 5,
   "id": "92307c5d-533a-4b4e-90f7-c2ce749a69d3",
   "metadata": {},
   "outputs": [],
   "source": [
    "def detect_gesture(num_fingers):\n",
    "    gestures = {\n",
    "        0: \"Closed Fist\",     # No fingers extended\n",
    "        1: \"Thumbs Up\",       # 1 finger extended (thumb)\n",
    "        2: \"Peace Sign\",      # 2 fingers extended (index and middle)\n",
    "        3: \"Three Fingers\",   # 3 fingers extended (index, middle, ring)\n",
    "        4: \"Four Fingers\",    # 4 fingers extended (all except thumb)\n",
    "        5: \"Open Hand\"        # 5 fingers extended (open hand)\n",
    "    }\n",
    "    return gestures.get(num_fingers, \"Unknown Gesture\")\n"
   ]
  },
  {
   "cell_type": "code",
   "execution_count": null,
   "id": "95c8d0cb-100c-4977-afdb-8de382f1b014",
   "metadata": {},
   "outputs": [],
   "source": [
    "# Capture video from webcam\n",
    "cap = cv2.VideoCapture(0)\n",
    "\n",
    "# Main loop to process video frames\n",
    "while cap.isOpened():\n",
    "    ret, frame = cap.read()\n",
    "    if not ret:\n",
    "        print(\"Failed to capture frame.\")\n",
    "        break\n",
    "\n",
    "    # Flip frame for a mirror effect and convert to RGB\n",
    "    frame = cv2.flip(frame, 1)\n",
    "    frame_rgb = cv2.cvtColor(frame, cv2.COLOR_BGR2RGB)\n",
    "\n",
    "    # Process the frame with MediaPipe Hands\n",
    "    results = hands.process(frame_rgb)\n",
    "\n",
    "    # Check if hands are detected\n",
    "    if results.multi_hand_landmarks:\n",
    "        for hand_landmarks in results.multi_hand_landmarks:\n",
    "            # Draw landmarks on the frame\n",
    "            mp_drawing.draw_landmarks(frame, hand_landmarks, mp_hands.HAND_CONNECTIONS)\n",
    "\n",
    "            # Extract landmark positions as (x, y) pairs\n",
    "            landmarks = [(lm.x, lm.y) for lm in hand_landmarks.landmark]\n",
    "\n",
    "            # Count fingers\n",
    "            num_fingers = count_fingers(landmarks)\n",
    "\n",
    "            # Detect gesture based on number of fingers\n",
    "            gesture_name = detect_gesture(num_fingers)\n",
    "\n",
    "            # Display the detected gesture name\n",
    "            cv2.putText(frame, gesture_name, (10, 70), cv2.FONT_HERSHEY_SIMPLEX, 1, (0, 255, 0), 2, cv2.LINE_AA)\n",
    "\n",
    "    # Display the frame\n",
    "    cv2.imshow('Hand Gesture Recognition - Press q to Quit', frame)\n",
    "\n",
    "    # Exit on pressing 'q'\n",
    "    if cv2.waitKey(1) & 0xFF == ord('q'):\n",
    "        break\n",
    "\n",
    "# Release resources\n",
    "cap.release()\n",
    "cv2.destroyAllWindows()\n",
    "hands.close()\n"
   ]
  },
  {
   "cell_type": "code",
   "execution_count": null,
   "id": "63b26372-269b-4b80-841b-d6b396ef3e27",
   "metadata": {},
   "outputs": [],
   "source": []
  }
 ],
 "metadata": {
  "kernelspec": {
   "display_name": "Python 3 (ipykernel)",
   "language": "python",
   "name": "python3"
  },
  "language_info": {
   "codemirror_mode": {
    "name": "ipython",
    "version": 3
   },
   "file_extension": ".py",
   "mimetype": "text/x-python",
   "name": "python",
   "nbconvert_exporter": "python",
   "pygments_lexer": "ipython3",
   "version": "3.12.5"
  }
 },
 "nbformat": 4,
 "nbformat_minor": 5
}
